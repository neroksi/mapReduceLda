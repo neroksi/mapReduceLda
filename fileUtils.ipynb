{
 "cells": [
  {
   "cell_type": "code",
   "execution_count": 3,
   "metadata": {},
   "outputs": [],
   "source": [
    "import pickle as pkl"
   ]
  },
  {
   "cell_type": "code",
   "execution_count": 4,
   "metadata": {},
   "outputs": [],
   "source": [
    "def load(path):\n",
    "    with open(path, \"rb\") as f :\n",
    "        obj = pkl.load(f)\n",
    "    return obj"
   ]
  },
  {
   "cell_type": "code",
   "execution_count": 5,
   "metadata": {},
   "outputs": [],
   "source": [
    "def dump(obj,path, mode = \"wb\"):\n",
    "    with open(path, mode) as f :\n",
    "        pkl.dump(obj,f)"
   ]
  },
  {
   "cell_type": "code",
   "execution_count": 6,
   "metadata": {},
   "outputs": [],
   "source": [
    "def saveByPartition(ind, part, folder = \"matrix/corpusTopic\", mode = \"wb\", batchsize = 10):\n",
    "    \"\"\"Save a rdd, mappped with partition index into disk. \"\"\"\n",
    "    \n",
    "    root = folder + \"/partition__%04d__\"%ind # Root file by partition\n",
    "\n",
    "    if os.path.exists(root):\n",
    "        if mode == \"wb\":\n",
    "            shutil.rmtree(root) # remove file if it exists and in overwrite mode\n",
    "    os.mkdir(root) # Create dir\n",
    "    write_more = True # Are we at the end of the partition ?\n",
    "    counter = 0 # Batch num\n",
    "    while write_more :\n",
    "        write_more = False\n",
    "        file = root + \"/batch_%010d\"%counter\n",
    "        nwrited = 0 # writed line number\n",
    "        with open(file, mode ) as f :\n",
    "            for el in part :\n",
    "                pkl.dump(el, f)\n",
    "                nwrited += 1\n",
    "                write_more = True\n",
    "                if nwrited >= batchsize :\n",
    "                    break\n",
    "            \n",
    "            counter += 1\n",
    "        if not write_more :\n",
    "            os.remove(file)\n",
    "            break\n",
    "    return [] # return empty list, as the mapPartitionWithIndex requires an iterable to be returned"
   ]
  },
  {
   "cell_type": "code",
   "execution_count": 7,
   "metadata": {},
   "outputs": [],
   "source": [
    "def getDocsAll():\n",
    "    docsAll ={}\n",
    "    nbDocs = []\n",
    "    for  ind in range(nbPartitions):\n",
    "        d = load(\"matrix/docsMap/docs__%04d__\"%ind)\n",
    "        docsAll.update(d)\n",
    "        nbDocs.append(len(d))"
   ]
  },
  {
   "cell_type": "code",
   "execution_count": 8,
   "metadata": {},
   "outputs": [],
   "source": [
    "def pickleLoader(pklFile):\n",
    "    try:\n",
    "        while True:\n",
    "            yield pkl.load(pklFile)\n",
    "    except EOFError:\n",
    "        pass"
   ]
  },
  {
   "cell_type": "code",
   "execution_count": null,
   "metadata": {},
   "outputs": [],
   "source": []
  }
 ],
 "metadata": {
  "kernelspec": {
   "display_name": "Python 3",
   "language": "python",
   "name": "python3"
  },
  "language_info": {
   "codemirror_mode": {
    "name": "ipython",
    "version": 3
   },
   "file_extension": ".py",
   "mimetype": "text/x-python",
   "name": "python",
   "nbconvert_exporter": "python",
   "pygments_lexer": "ipython3",
   "version": "3.7.0"
  }
 },
 "nbformat": 4,
 "nbformat_minor": 2
}
